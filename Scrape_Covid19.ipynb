{
 "cells": [
  {
   "cell_type": "code",
   "execution_count": 11,
   "metadata": {},
   "outputs": [],
   "source": [
    "from selenium import webdriver \n",
    "from selenium.webdriver.chrome.options import Options\n",
    "from selenium.webdriver import Chrome\n",
    "from selenium.webdriver.support.ui import Select\n",
    "from selenium.webdriver.support.ui import WebDriverWait\n",
    "import pandas as pd\n",
    "import numpy as np\n",
    "import time\n",
    "from bs4 import BeautifulSoup"
   ]
  },
  {
   "cell_type": "code",
   "execution_count": 42,
   "metadata": {},
   "outputs": [],
   "source": [
    "df_new = pd.DataFrame(columns = [\"State\",\"County\",\"Total_Case\",\"%_State_Case\",\n",
    "                                \"Case_per_Hundred_Thousand\",\"Total_Death\"])\n",
    "error_name = []\n",
    "path = '/Users/Petelindan/Downloads/chromedriver_win32/chromedriver'\n",
    "chrome_options = Options()\n",
    "chrome_options.add_argument(\" — incognito\")\n",
    "browser = webdriver.Chrome(path, options=chrome_options)\n",
    "\n",
    "start_url='https://www.cdc.gov/coronavirus/2019-ncov/cases-updates/county-map.html?state=MT'\n",
    "browser.get(start_url)\n",
    "timeout = 10\n",
    "state_list = [\"AL\", \"AK\", \"AZ\", \"AR\", \"CA\", \"CO\", \"CT\", \"DC\", \"DE\", \"FL\", \"GA\", \n",
    "          \"HI\", \"ID\", \"IL\", \"IN\", \"IA\", \"KS\", \"KY\", \"LA\", \"ME\", \"MD\", \n",
    "          \"MA\", \"MI\", \"MN\", \"MS\", \"MO\", \"MT\", \"NE\", \"NV\", \"NH\", \"NJ\", \n",
    "          \"NM\", \"NY\", \"NC\", \"ND\", \"OH\", \"OK\", \"OR\", \"PA\", \"RI\", \"SC\", \n",
    "          \"SD\", \"TN\", \"TX\", \"UT\", \"VT\", \"VA\", \"WA\", \"WV\", \"WI\", \"WY\"]"
   ]
  },
  {
   "cell_type": "code",
   "execution_count": 46,
   "metadata": {},
   "outputs": [
    {
     "data": {
      "text/plain": [
       "51"
      ]
     },
     "execution_count": 46,
     "metadata": {},
     "output_type": "execute_result"
    }
   ],
   "source": [
    "len(state_list)"
   ]
  },
  {
   "cell_type": "code",
   "execution_count": 43,
   "metadata": {},
   "outputs": [],
   "source": [
    "for state in state_list:\n",
    "    url = browser.current_url\n",
    "    browser.get(url)\n",
    "    browser.implicitly_wait(10) # seconds\n",
    "    \n",
    "    loc = Select(browser.find_element_by_xpath(\"//select[@id='state-select']\"))\n",
    "    loc.select_by_value(state)\n",
    "    browser.implicitly_wait(10) # seconds\n",
    "    \n",
    "    content = browser.find_element_by_xpath(\"//table[@id='state-accessibility-table']//tbody\")\n",
    "    content = content.find_elements_by_tag_name(\"tr\")\n",
    "    for element in content:\n",
    "        element = element.find_elements_by_tag_name(\"td\")\n",
    "        county = element[0].text\n",
    "        total_case = element[1].text\n",
    "        percent_state_case = element[2].text\n",
    "        case_per_100000 = element[3].text\n",
    "        total_death = element[4].text\n",
    "        county_data = {\"State\":state,\"County\":county,\"Total_Case\":total_case,\n",
    "                       \"%_State_Case\":percent_state_case,\"Case_per_Hundred_Thousand\":case_per_100000,\n",
    "                       \"Total_Death\":total_death}\n",
    "        df_new = df_new.append(county_data,ignore_index=True)"
   ]
  },
  {
   "cell_type": "code",
   "execution_count": 44,
   "metadata": {},
   "outputs": [
    {
     "data": {
      "text/plain": [
       "51"
      ]
     },
     "execution_count": 44,
     "metadata": {},
     "output_type": "execute_result"
    }
   ],
   "source": [
    "result = df_new.State.unique()\n",
    "len(result)"
   ]
  },
  {
   "cell_type": "code",
   "execution_count": 45,
   "metadata": {},
   "outputs": [
    {
     "name": "stdout",
     "output_type": "stream",
     "text": [
      "<class 'pandas.core.frame.DataFrame'>\n",
      "RangeIndex: 3142 entries, 0 to 3141\n",
      "Data columns (total 6 columns):\n",
      " #   Column                     Non-Null Count  Dtype \n",
      "---  ------                     --------------  ----- \n",
      " 0   State                      3142 non-null   object\n",
      " 1   County                     3142 non-null   object\n",
      " 2   Total_Case                 3142 non-null   object\n",
      " 3   %_State_Case               3142 non-null   object\n",
      " 4   Case_per_Hundred_Thousand  3142 non-null   object\n",
      " 5   Total_Death                3142 non-null   object\n",
      "dtypes: object(6)\n",
      "memory usage: 147.4+ KB\n"
     ]
    }
   ],
   "source": [
    "df_new.info()"
   ]
  },
  {
   "cell_type": "code",
   "execution_count": 47,
   "metadata": {},
   "outputs": [],
   "source": [
    "df_new.to_csv(\"covid19(51).csv\")"
   ]
  },
  {
   "cell_type": "code",
   "execution_count": 48,
   "metadata": {},
   "outputs": [
    {
     "data": {
      "text/html": [
       "<div>\n",
       "<style scoped>\n",
       "    .dataframe tbody tr th:only-of-type {\n",
       "        vertical-align: middle;\n",
       "    }\n",
       "\n",
       "    .dataframe tbody tr th {\n",
       "        vertical-align: top;\n",
       "    }\n",
       "\n",
       "    .dataframe thead th {\n",
       "        text-align: right;\n",
       "    }\n",
       "</style>\n",
       "<table border=\"1\" class=\"dataframe\">\n",
       "  <thead>\n",
       "    <tr style=\"text-align: right;\">\n",
       "      <th></th>\n",
       "      <th>State</th>\n",
       "      <th>County</th>\n",
       "      <th>Total_Case</th>\n",
       "      <th>%_State_Case</th>\n",
       "      <th>Case_per_Hundred_Thousand</th>\n",
       "      <th>Total_Death</th>\n",
       "    </tr>\n",
       "  </thead>\n",
       "  <tbody>\n",
       "    <tr>\n",
       "      <th>0</th>\n",
       "      <td>AL</td>\n",
       "      <td>Jefferson</td>\n",
       "      <td>14,307</td>\n",
       "      <td>13.2%</td>\n",
       "      <td>2,172</td>\n",
       "      <td>264</td>\n",
       "    </tr>\n",
       "    <tr>\n",
       "      <th>1</th>\n",
       "      <td>AL</td>\n",
       "      <td>Mobile</td>\n",
       "      <td>11,125</td>\n",
       "      <td>10.3%</td>\n",
       "      <td>2,692</td>\n",
       "      <td>232</td>\n",
       "    </tr>\n",
       "    <tr>\n",
       "      <th>2</th>\n",
       "      <td>AL</td>\n",
       "      <td>Montgomery</td>\n",
       "      <td>7,303</td>\n",
       "      <td>6.7%</td>\n",
       "      <td>3,224</td>\n",
       "      <td>156</td>\n",
       "    </tr>\n",
       "    <tr>\n",
       "      <th>3</th>\n",
       "      <td>AL</td>\n",
       "      <td>Madison</td>\n",
       "      <td>5,821</td>\n",
       "      <td>5.4%</td>\n",
       "      <td>1,561</td>\n",
       "      <td>40</td>\n",
       "    </tr>\n",
       "    <tr>\n",
       "      <th>4</th>\n",
       "      <td>AL</td>\n",
       "      <td>Tuscaloosa</td>\n",
       "      <td>4,593</td>\n",
       "      <td>4.2%</td>\n",
       "      <td>2,194</td>\n",
       "      <td>82</td>\n",
       "    </tr>\n",
       "  </tbody>\n",
       "</table>\n",
       "</div>"
      ],
      "text/plain": [
       "  State      County Total_Case %_State_Case Case_per_Hundred_Thousand  \\\n",
       "0    AL   Jefferson     14,307        13.2%                     2,172   \n",
       "1    AL      Mobile     11,125        10.3%                     2,692   \n",
       "2    AL  Montgomery      7,303         6.7%                     3,224   \n",
       "3    AL     Madison      5,821         5.4%                     1,561   \n",
       "4    AL  Tuscaloosa      4,593         4.2%                     2,194   \n",
       "\n",
       "  Total_Death  \n",
       "0         264  \n",
       "1         232  \n",
       "2         156  \n",
       "3          40  \n",
       "4          82  "
      ]
     },
     "execution_count": 48,
     "metadata": {},
     "output_type": "execute_result"
    }
   ],
   "source": [
    "df_new.head()"
   ]
  },
  {
   "cell_type": "code",
   "execution_count": null,
   "metadata": {},
   "outputs": [],
   "source": []
  }
 ],
 "metadata": {
  "kernelspec": {
   "display_name": "Python 3",
   "language": "python",
   "name": "python3"
  },
  "language_info": {
   "codemirror_mode": {
    "name": "ipython",
    "version": 3
   },
   "file_extension": ".py",
   "mimetype": "text/x-python",
   "name": "python",
   "nbconvert_exporter": "python",
   "pygments_lexer": "ipython3",
   "version": "3.7.6"
  }
 },
 "nbformat": 4,
 "nbformat_minor": 4
}
