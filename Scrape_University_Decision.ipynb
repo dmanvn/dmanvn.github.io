{
 "cells": [
  {
   "cell_type": "code",
   "execution_count": 1,
   "metadata": {},
   "outputs": [],
   "source": [
    "from selenium import webdriver \n",
    "from selenium.webdriver.chrome.options import Options\n",
    "from selenium.webdriver import Chrome\n",
    "from selenium.webdriver.support.ui import Select\n",
    "from requests import Session\n",
    "import pandas as pd\n",
    "import numpy as np\n",
    "import time"
   ]
  },
  {
   "cell_type": "code",
   "execution_count": 2,
   "metadata": {},
   "outputs": [],
   "source": [
    "req = Session()\n",
    "req.headers.clear() \n",
    "path = '/Users/Petelindan/Downloads/chromedriver_win32/chromedriver'\n",
    "chrome_options = Options()\n",
    "chrome_options.add_argument(\" — incognito\")\n",
    "browser = webdriver.Chrome(path, options=chrome_options)\n",
    "start_url='https://public.flourish.studio/visualisation/3118952/?utm_source=showcase&utm_campaign=visualisation/3118952'\n",
    "browser.get(start_url)\n",
    "df = pd.DataFrame(columns = [\"Name\",\"Control\",\"State\",\"Plan\",\"2018 Fall Enrollment\",\"Known_Cases_in_County_per_100k_Residents\"])"
   ]
  },
  {
   "cell_type": "code",
   "execution_count": 3,
   "metadata": {},
   "outputs": [],
   "source": [
    "iframeElement = browser.find_element_by_tag_name('iframe')\n",
    "browser.switch_to.frame(iframeElement)\n",
    "for page in range(148): \n",
    "    try:\n",
    "        table = browser.find_element_by_id(\"table\")\n",
    "        contents = table.find_elements_by_xpath(\"//div[@class= 'tr body-row']\")\n",
    "        for line in contents:\n",
    "            values = line.find_elements_by_class_name(\"td\")\n",
    "            name=values[0].text\n",
    "            control = values[1].text\n",
    "            state = values[2].text\n",
    "            plan = values[3].text\n",
    "            fall_Enrollment_2018 = values[4].text\n",
    "            case_in_County_per_100k_res = values[5].text\n",
    "            data = {\"Name\": name,\"Control\":control,\"State\":state,\"Plan\":plan,\"2018 Fall Enrollment\":fall_Enrollment_2018,\"Known_Cases_in_County_per_100k_Residents\":case_in_County_per_100k_res}\n",
    "            df = df.append(data,ignore_index=True)\n",
    "        browser.find_element_by_xpath(\"//button[@class = 'pagination-btn next']\").click()\n",
    "    except:\n",
    "        pass"
   ]
  },
  {
   "cell_type": "code",
   "execution_count": null,
   "metadata": {},
   "outputs": [],
   "source": [
    "content = browser.find_element_by_id(\"table\")\n",
    "content = content.find_element_by_xpath(\"//div[@class= 'tr body-row']\")\n",
    "values = content.find_elements_by_class_name(\"td\")\n",
    "name=values[0].text\n",
    "control = values[1].text\n",
    "state = values[2].text\n",
    "plan = values[3].text\n",
    "fall_Enrollment_2018 = values[4].text\n",
    "case_in_County_per_100k_res = values[5].text\n",
    "data = {\"Name\": name,\"Control\":control,\"State\":state,\"Plan\":plan,\"2018 Fall Enrollment\":fall_Enrollment_2018,\"Known_Cases_in_County_per_100k_Residents\":case_in_County_per_100k_res}\n",
    "data\n",
    "# values[6].text\n",
    "# for element in content:\n",
    "#     print(element.text)"
   ]
  },
  {
   "cell_type": "code",
   "execution_count": 6,
   "metadata": {},
   "outputs": [
    {
     "data": {
      "text/html": [
       "<div>\n",
       "<style scoped>\n",
       "    .dataframe tbody tr th:only-of-type {\n",
       "        vertical-align: middle;\n",
       "    }\n",
       "\n",
       "    .dataframe tbody tr th {\n",
       "        vertical-align: top;\n",
       "    }\n",
       "\n",
       "    .dataframe thead th {\n",
       "        text-align: right;\n",
       "    }\n",
       "</style>\n",
       "<table border=\"1\" class=\"dataframe\">\n",
       "  <thead>\n",
       "    <tr style=\"text-align: right;\">\n",
       "      <th></th>\n",
       "      <th>Name</th>\n",
       "      <th>Control</th>\n",
       "      <th>State</th>\n",
       "      <th>Plan</th>\n",
       "      <th>2018 Fall Enrollment</th>\n",
       "      <th>Known_Cases_in_County_per_100k_Residents</th>\n",
       "    </tr>\n",
       "  </thead>\n",
       "  <tbody>\n",
       "    <tr>\n",
       "      <th>2953</th>\n",
       "      <td>York Technical College</td>\n",
       "      <td>Public</td>\n",
       "      <td>SC</td>\n",
       "      <td>Primarily online</td>\n",
       "      <td>4,253</td>\n",
       "      <td>1,220</td>\n",
       "    </tr>\n",
       "    <tr>\n",
       "      <th>2954</th>\n",
       "      <td>Young Harris College</td>\n",
       "      <td>Private</td>\n",
       "      <td>GA</td>\n",
       "      <td>Primarily in person</td>\n",
       "      <td>1,425</td>\n",
       "      <td>1,007</td>\n",
       "    </tr>\n",
       "    <tr>\n",
       "      <th>2955</th>\n",
       "      <td>Youngstown State U.</td>\n",
       "      <td>Public</td>\n",
       "      <td>OH</td>\n",
       "      <td>Primarily online</td>\n",
       "      <td>12,607</td>\n",
       "      <td>1,036</td>\n",
       "    </tr>\n",
       "    <tr>\n",
       "      <th>2956</th>\n",
       "      <td>Yuba College</td>\n",
       "      <td>Public</td>\n",
       "      <td>CA</td>\n",
       "      <td>TBD</td>\n",
       "      <td>5,934</td>\n",
       "      <td>664</td>\n",
       "    </tr>\n",
       "    <tr>\n",
       "      <th>2957</th>\n",
       "      <td>Zane State College</td>\n",
       "      <td>Public</td>\n",
       "      <td>OH</td>\n",
       "      <td>Primarily online</td>\n",
       "      <td>2,275</td>\n",
       "      <td>207</td>\n",
       "    </tr>\n",
       "  </tbody>\n",
       "</table>\n",
       "</div>"
      ],
      "text/plain": [
       "                        Name  Control State                 Plan  \\\n",
       "2953  York Technical College   Public    SC     Primarily online   \n",
       "2954    Young Harris College  Private    GA  Primarily in person   \n",
       "2955     Youngstown State U.   Public    OH     Primarily online   \n",
       "2956            Yuba College   Public    CA                  TBD   \n",
       "2957      Zane State College   Public    OH     Primarily online   \n",
       "\n",
       "     2018 Fall Enrollment Known_Cases_in_County_per_100k_Residents  \n",
       "2953                4,253                                    1,220  \n",
       "2954                1,425                                    1,007  \n",
       "2955               12,607                                    1,036  \n",
       "2956                5,934                                      664  \n",
       "2957                2,275                                      207  "
      ]
     },
     "execution_count": 6,
     "metadata": {},
     "output_type": "execute_result"
    }
   ],
   "source": [
    "df.tail()"
   ]
  },
  {
   "cell_type": "code",
   "execution_count": 7,
   "metadata": {},
   "outputs": [],
   "source": [
    "df.to_csv(\"CHE.3000.csv\")"
   ]
  },
  {
   "cell_type": "code",
   "execution_count": null,
   "metadata": {},
   "outputs": [],
   "source": []
  }
 ],
 "metadata": {
  "kernelspec": {
   "display_name": "Python 3",
   "language": "python",
   "name": "python3"
  },
  "language_info": {
   "codemirror_mode": {
    "name": "ipython",
    "version": 3
   },
   "file_extension": ".py",
   "mimetype": "text/x-python",
   "name": "python",
   "nbconvert_exporter": "python",
   "pygments_lexer": "ipython3",
   "version": "3.7.6"
  }
 },
 "nbformat": 4,
 "nbformat_minor": 4
}
